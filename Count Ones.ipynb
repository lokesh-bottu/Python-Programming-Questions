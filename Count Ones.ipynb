{
 "cells": [
  {
   "cell_type": "code",
   "execution_count": 1,
   "id": "baf13bba",
   "metadata": {},
   "outputs": [
    {
     "name": "stdout",
     "output_type": "stream",
     "text": [
      "3\n"
     ]
    }
   ],
   "source": [
    "k=3\n",
    "m=2\n",
    "a=[1,0,0,1,0,1,0,1,1]\n",
    "i,j=(0,k-1)\n",
    "count=0\n",
    "while(i<=j and j<(len(a))):\n",
    "    sc=0\n",
    "    for index in range(i,j+1):\n",
    "        if a[index]==1:\n",
    "            sc+=1\n",
    "    if sc==m:\n",
    "        count+=1\n",
    "    i+=1\n",
    "    j+=1\n",
    "print(count)"
   ]
  }
 ],
 "metadata": {
  "kernelspec": {
   "display_name": "Python 3 (ipykernel)",
   "language": "python",
   "name": "python3"
  },
  "language_info": {
   "codemirror_mode": {
    "name": "ipython",
    "version": 3
   },
   "file_extension": ".py",
   "mimetype": "text/x-python",
   "name": "python",
   "nbconvert_exporter": "python",
   "pygments_lexer": "ipython3",
   "version": "3.9.12"
  }
 },
 "nbformat": 4,
 "nbformat_minor": 5
}
