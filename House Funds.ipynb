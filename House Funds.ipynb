{
 "cells": [
  {
   "cell_type": "code",
   "execution_count": 1,
   "id": "fd7f79e6",
   "metadata": {},
   "outputs": [
    {
     "name": "stdout",
     "output_type": "stream",
     "text": [
      "--------------------\n",
      "4 5 2\n",
      "--------------------\n"
     ]
    }
   ],
   "source": [
    "req = 7\n",
    "flag=0\n",
    "funds=[2,3,1,2,4,3]\n",
    "for i in range(len(funds)):\n",
    "    j=i\n",
    "    sum=0\n",
    "    while(j<len(funds) and sum<req):\n",
    "        end=0\n",
    "        sum+=funds[j]\n",
    "        if sum>=req:\n",
    "            end=j\n",
    "            break\n",
    "        j+=1\n",
    "#     print(i,end,end-i+1)    #this gives the No of houses and position of houses we can collect\n",
    "    if(end==0 and i==0):\n",
    "        print(0)\n",
    "        flag=1\n",
    "        break\n",
    "    if(i==0):\n",
    "        small=end-i\n",
    "    if(end >0 and end-i<small):\n",
    "        small=end-i\n",
    "        start =i\n",
    "        ending =end\n",
    "if flag==0:\n",
    "    print(\"-\"*20)\n",
    "    print(start,ending,small+1)\n",
    "    print(\"-\"*20)\n"
   ]
  },
  {
   "cell_type": "code",
   "execution_count": null,
   "id": "7c9b961d",
   "metadata": {},
   "outputs": [],
   "source": []
  }
 ],
 "metadata": {
  "kernelspec": {
   "display_name": "Python 3 (ipykernel)",
   "language": "python",
   "name": "python3"
  },
  "language_info": {
   "codemirror_mode": {
    "name": "ipython",
    "version": 3
   },
   "file_extension": ".py",
   "mimetype": "text/x-python",
   "name": "python",
   "nbconvert_exporter": "python",
   "pygments_lexer": "ipython3",
   "version": "3.9.12"
  }
 },
 "nbformat": 4,
 "nbformat_minor": 5
}
