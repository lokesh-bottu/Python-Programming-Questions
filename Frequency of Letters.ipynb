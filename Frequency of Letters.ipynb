{
 "cells": [
  {
   "cell_type": "code",
   "execution_count": 7,
   "id": "a4b4f84f",
   "metadata": {},
   "outputs": [
    {
     "name": "stdout",
     "output_type": "stream",
     "text": [
      "L : 1\n",
      "o : 1\n",
      "k : 1\n",
      "e : 1\n",
      "s : 1\n",
      "h : 3\n"
     ]
    }
   ],
   "source": [
    "str='Lokeshhh'\n",
    "freq={}\n",
    "for i in str:\n",
    "    freq[i]=freq.get(i,0)+1\n",
    "for j in freq:\n",
    "    print(j,\":\",freq[j])\n",
    "    "
   ]
  }
 ],
 "metadata": {
  "kernelspec": {
   "display_name": "Python 3 (ipykernel)",
   "language": "python",
   "name": "python3"
  },
  "language_info": {
   "codemirror_mode": {
    "name": "ipython",
    "version": 3
   },
   "file_extension": ".py",
   "mimetype": "text/x-python",
   "name": "python",
   "nbconvert_exporter": "python",
   "pygments_lexer": "ipython3",
   "version": "3.9.12"
  }
 },
 "nbformat": 4,
 "nbformat_minor": 5
}
